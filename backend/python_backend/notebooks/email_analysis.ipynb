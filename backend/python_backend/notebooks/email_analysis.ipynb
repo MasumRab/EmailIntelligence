{
 "cells": [
  {
   "cell_type": "markdown",
   "metadata": {},
   "source": [
    "# Email Intelligence Scientific Analysis Notebook\n",
    "\n",
    "This notebook provides tools for advanced analysis of email data using the EmailIntelligence NLP engine."
   ]
  },
  {
   "cell_type": "code",
   "execution_count": null,
   "metadata": {},
   "outputs": [],
   "source": [
    "import pandas as pd\n",
    "import numpy as np\n",
    "import matplotlib.pyplot as plt\n",
    "import seaborn as sns\n",
    "from backend.python_nlp.nlp_engine import NLPEngine\n",
    "\n",
    "# Initialize NLP Engine\n",
    "nlp = NLPEngine()\n",
    "\n",
    "# Sample data\n",
    "emails = [\n",
    "    {\"subject\": \"Meeting Tomorrow\", \"content\": \"Let's discuss the project.\"},\n",
    "    {\"subject\": \"Urgent: Payment Due\", \"content\": \"Please pay your bill.\"}\n",
    "]\n",
    "\n",
    "# Analyze emails\n",
    "results = [nlp.analyze_email(e['subject'], e['content']) for e in emails]\n",
    "df = pd.DataFrame(results)\n",
    "df.head()"
   ]
  },
  {
   "cell_type": "code",
   "execution_count": null,
   "metadata": {},
   "outputs": [],
   "source": [
    "# Visualization\n",
    "sns.countplot(data=df, x='sentiment')\n",
    "plt.title('Sentiment Distribution')\n",
    "plt.show()"
   ]
  }
 ],
 "metadata": {
  "kernelspec": {
   "display_name": "Python 3",
   "language": "python",
   "name": "python3"
  },
  "language_info": {
   "name": "python",
   "version": "3.11.0"
  }
 },
 "nbformat": 4,
 "nbformat_minor": 4
}